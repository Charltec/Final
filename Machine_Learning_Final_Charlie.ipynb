{
  "nbformat": 4,
  "nbformat_minor": 0,
  "metadata": {
    "colab": {
      "name": "Machine_Learning_Final_Charlie.ipynb",
      "provenance": [],
      "authorship_tag": "ABX9TyOtvzC0ErrI7oJY3HWjPVgU",
      "include_colab_link": true
    },
    "kernelspec": {
      "display_name": "Python 3",
      "name": "python3"
    }
  },
  "cells": [
    {
      "cell_type": "markdown",
      "metadata": {
        "id": "view-in-github",
        "colab_type": "text"
      },
      "source": [
        "<a href=\"https://colab.research.google.com/github/Charltec/Final/blob/main/Machine_Learning_Final_Charlie.ipynb\" target=\"_parent\"><img src=\"https://colab.research.google.com/assets/colab-badge.svg\" alt=\"Open In Colab\"/></a>"
      ]
    },
    {
      "cell_type": "code",
      "metadata": {
        "id": "yA5Dl30-WO6r"
      },
      "source": [
        "# Import libraries\n",
        "import math \n",
        "# It helps to code tables and graphs\n",
        "import pandas as pd\n",
        "import numpy as np\n",
        "from matplotlib import pyplot as plt\n",
        "import numpy as np\n",
        "import sklearn\n",
        "from sklearn.linear_model import LogisticRegression\n",
        "from sklearn import model_selection\n",
        "from sklearn.model_selection import KFold "
      ],
      "execution_count": 219,
      "outputs": []
    },
    {
      "cell_type": "code",
      "metadata": {
        "colab": {
          "base_uri": "https://localhost:8080/"
        },
        "id": "_DyOK99JWSIu",
        "outputId": "68303534-9742-496a-a003-2199f145ac1a"
      },
      "source": [
        "# Let the program read de data frame we implemented\n",
        "data = 'https://raw.githubusercontent.com/Charltec/Final/main/diabetes.csv'\n",
        "data_frame =  pd.read_csv(data)\n",
        "data_frame.info()"
      ],
      "execution_count": 220,
      "outputs": [
        {
          "output_type": "stream",
          "text": [
            "<class 'pandas.core.frame.DataFrame'>\n",
            "RangeIndex: 768 entries, 0 to 767\n",
            "Data columns (total 9 columns):\n",
            " #   Column                    Non-Null Count  Dtype  \n",
            "---  ------                    --------------  -----  \n",
            " 0   Pregnancies               768 non-null    int64  \n",
            " 1   Glucose                   768 non-null    int64  \n",
            " 2   BloodPressure             768 non-null    int64  \n",
            " 3   SkinThickness             768 non-null    int64  \n",
            " 4   Insulin                   768 non-null    int64  \n",
            " 5   BMI                       768 non-null    float64\n",
            " 6   DiabetesPedigreeFunction  768 non-null    float64\n",
            " 7   Age                       768 non-null    int64  \n",
            " 8   Outcome                   768 non-null    int64  \n",
            "dtypes: float64(2), int64(7)\n",
            "memory usage: 54.1 KB\n"
          ],
          "name": "stdout"
        }
      ]
    },
    {
      "cell_type": "code",
      "metadata": {
        "colab": {
          "base_uri": "https://localhost:8080/",
          "height": 204
        },
        "id": "g9q8PBeVWSV5",
        "outputId": "ba750d20-9dff-4986-af52-3626fb171de5"
      },
      "source": [
        "# Table of the dataframe\n",
        "data_frame.head()"
      ],
      "execution_count": 221,
      "outputs": [
        {
          "output_type": "execute_result",
          "data": {
            "text/html": [
              "<div>\n",
              "<style scoped>\n",
              "    .dataframe tbody tr th:only-of-type {\n",
              "        vertical-align: middle;\n",
              "    }\n",
              "\n",
              "    .dataframe tbody tr th {\n",
              "        vertical-align: top;\n",
              "    }\n",
              "\n",
              "    .dataframe thead th {\n",
              "        text-align: right;\n",
              "    }\n",
              "</style>\n",
              "<table border=\"1\" class=\"dataframe\">\n",
              "  <thead>\n",
              "    <tr style=\"text-align: right;\">\n",
              "      <th></th>\n",
              "      <th>Pregnancies</th>\n",
              "      <th>Glucose</th>\n",
              "      <th>BloodPressure</th>\n",
              "      <th>SkinThickness</th>\n",
              "      <th>Insulin</th>\n",
              "      <th>BMI</th>\n",
              "      <th>DiabetesPedigreeFunction</th>\n",
              "      <th>Age</th>\n",
              "      <th>Outcome</th>\n",
              "    </tr>\n",
              "  </thead>\n",
              "  <tbody>\n",
              "    <tr>\n",
              "      <th>0</th>\n",
              "      <td>6</td>\n",
              "      <td>148</td>\n",
              "      <td>72</td>\n",
              "      <td>35</td>\n",
              "      <td>0</td>\n",
              "      <td>33.6</td>\n",
              "      <td>0.627</td>\n",
              "      <td>50</td>\n",
              "      <td>1</td>\n",
              "    </tr>\n",
              "    <tr>\n",
              "      <th>1</th>\n",
              "      <td>1</td>\n",
              "      <td>85</td>\n",
              "      <td>66</td>\n",
              "      <td>29</td>\n",
              "      <td>0</td>\n",
              "      <td>26.6</td>\n",
              "      <td>0.351</td>\n",
              "      <td>31</td>\n",
              "      <td>0</td>\n",
              "    </tr>\n",
              "    <tr>\n",
              "      <th>2</th>\n",
              "      <td>8</td>\n",
              "      <td>183</td>\n",
              "      <td>64</td>\n",
              "      <td>0</td>\n",
              "      <td>0</td>\n",
              "      <td>23.3</td>\n",
              "      <td>0.672</td>\n",
              "      <td>32</td>\n",
              "      <td>1</td>\n",
              "    </tr>\n",
              "    <tr>\n",
              "      <th>3</th>\n",
              "      <td>1</td>\n",
              "      <td>89</td>\n",
              "      <td>66</td>\n",
              "      <td>23</td>\n",
              "      <td>94</td>\n",
              "      <td>28.1</td>\n",
              "      <td>0.167</td>\n",
              "      <td>21</td>\n",
              "      <td>0</td>\n",
              "    </tr>\n",
              "    <tr>\n",
              "      <th>4</th>\n",
              "      <td>0</td>\n",
              "      <td>137</td>\n",
              "      <td>40</td>\n",
              "      <td>35</td>\n",
              "      <td>168</td>\n",
              "      <td>43.1</td>\n",
              "      <td>2.288</td>\n",
              "      <td>33</td>\n",
              "      <td>1</td>\n",
              "    </tr>\n",
              "  </tbody>\n",
              "</table>\n",
              "</div>"
            ],
            "text/plain": [
              "   Pregnancies  Glucose  BloodPressure  ...  DiabetesPedigreeFunction  Age  Outcome\n",
              "0            6      148             72  ...                     0.627   50        1\n",
              "1            1       85             66  ...                     0.351   31        0\n",
              "2            8      183             64  ...                     0.672   32        1\n",
              "3            1       89             66  ...                     0.167   21        0\n",
              "4            0      137             40  ...                     2.288   33        1\n",
              "\n",
              "[5 rows x 9 columns]"
            ]
          },
          "metadata": {
            "tags": []
          },
          "execution_count": 221
        }
      ]
    },
    {
      "cell_type": "code",
      "metadata": {
        "colab": {
          "base_uri": "https://localhost:8080/",
          "height": 204
        },
        "id": "fM6YrzU7rE3F",
        "outputId": "dc323ec9-ae36-42ad-e232-1050a89e064c"
      },
      "source": [
        "# Erase all the incomplete data\n",
        "data_frame = data_frame[-(data_frame[data_frame.columns[1:-1]] == 0).any(axis=1)]\n",
        "data_frame = data_frame[['Glucose', 'Insulin', 'BMI', 'DiabetesPedigreeFunction', 'Age', 'Outcome']] \n",
        "# Data frame with no empty data\n",
        "data_frame.head()"
      ],
      "execution_count": 222,
      "outputs": [
        {
          "output_type": "execute_result",
          "data": {
            "text/html": [
              "<div>\n",
              "<style scoped>\n",
              "    .dataframe tbody tr th:only-of-type {\n",
              "        vertical-align: middle;\n",
              "    }\n",
              "\n",
              "    .dataframe tbody tr th {\n",
              "        vertical-align: top;\n",
              "    }\n",
              "\n",
              "    .dataframe thead th {\n",
              "        text-align: right;\n",
              "    }\n",
              "</style>\n",
              "<table border=\"1\" class=\"dataframe\">\n",
              "  <thead>\n",
              "    <tr style=\"text-align: right;\">\n",
              "      <th></th>\n",
              "      <th>Glucose</th>\n",
              "      <th>Insulin</th>\n",
              "      <th>BMI</th>\n",
              "      <th>DiabetesPedigreeFunction</th>\n",
              "      <th>Age</th>\n",
              "      <th>Outcome</th>\n",
              "    </tr>\n",
              "  </thead>\n",
              "  <tbody>\n",
              "    <tr>\n",
              "      <th>3</th>\n",
              "      <td>89</td>\n",
              "      <td>94</td>\n",
              "      <td>28.1</td>\n",
              "      <td>0.167</td>\n",
              "      <td>21</td>\n",
              "      <td>0</td>\n",
              "    </tr>\n",
              "    <tr>\n",
              "      <th>4</th>\n",
              "      <td>137</td>\n",
              "      <td>168</td>\n",
              "      <td>43.1</td>\n",
              "      <td>2.288</td>\n",
              "      <td>33</td>\n",
              "      <td>1</td>\n",
              "    </tr>\n",
              "    <tr>\n",
              "      <th>6</th>\n",
              "      <td>78</td>\n",
              "      <td>88</td>\n",
              "      <td>31.0</td>\n",
              "      <td>0.248</td>\n",
              "      <td>26</td>\n",
              "      <td>1</td>\n",
              "    </tr>\n",
              "    <tr>\n",
              "      <th>8</th>\n",
              "      <td>197</td>\n",
              "      <td>543</td>\n",
              "      <td>30.5</td>\n",
              "      <td>0.158</td>\n",
              "      <td>53</td>\n",
              "      <td>1</td>\n",
              "    </tr>\n",
              "    <tr>\n",
              "      <th>13</th>\n",
              "      <td>189</td>\n",
              "      <td>846</td>\n",
              "      <td>30.1</td>\n",
              "      <td>0.398</td>\n",
              "      <td>59</td>\n",
              "      <td>1</td>\n",
              "    </tr>\n",
              "  </tbody>\n",
              "</table>\n",
              "</div>"
            ],
            "text/plain": [
              "    Glucose  Insulin   BMI  DiabetesPedigreeFunction  Age  Outcome\n",
              "3        89       94  28.1                     0.167   21        0\n",
              "4       137      168  43.1                     2.288   33        1\n",
              "6        78       88  31.0                     0.248   26        1\n",
              "8       197      543  30.5                     0.158   53        1\n",
              "13      189      846  30.1                     0.398   59        1"
            ]
          },
          "metadata": {
            "tags": []
          },
          "execution_count": 222
        }
      ]
    },
    {
      "cell_type": "code",
      "metadata": {
        "colab": {
          "base_uri": "https://localhost:8080/",
          "height": 297
        },
        "id": "DaE7B_uVlsRh",
        "outputId": "259c94e3-28b8-4fe3-825f-379de2908bb2"
      },
      "source": [
        "\"\"\"\n",
        "Data frame description (Descriptive statistics include those that summarize the \n",
        "central tendency, dispersion and shape of a dataset’s distribution, excluding NaN values.)\n",
        "\"\"\"\n",
        "data_frame.describe()"
      ],
      "execution_count": 223,
      "outputs": [
        {
          "output_type": "execute_result",
          "data": {
            "text/html": [
              "<div>\n",
              "<style scoped>\n",
              "    .dataframe tbody tr th:only-of-type {\n",
              "        vertical-align: middle;\n",
              "    }\n",
              "\n",
              "    .dataframe tbody tr th {\n",
              "        vertical-align: top;\n",
              "    }\n",
              "\n",
              "    .dataframe thead th {\n",
              "        text-align: right;\n",
              "    }\n",
              "</style>\n",
              "<table border=\"1\" class=\"dataframe\">\n",
              "  <thead>\n",
              "    <tr style=\"text-align: right;\">\n",
              "      <th></th>\n",
              "      <th>Glucose</th>\n",
              "      <th>Insulin</th>\n",
              "      <th>BMI</th>\n",
              "      <th>DiabetesPedigreeFunction</th>\n",
              "      <th>Age</th>\n",
              "      <th>Outcome</th>\n",
              "    </tr>\n",
              "  </thead>\n",
              "  <tbody>\n",
              "    <tr>\n",
              "      <th>count</th>\n",
              "      <td>392.000000</td>\n",
              "      <td>392.000000</td>\n",
              "      <td>392.000000</td>\n",
              "      <td>392.000000</td>\n",
              "      <td>392.000000</td>\n",
              "      <td>392.000000</td>\n",
              "    </tr>\n",
              "    <tr>\n",
              "      <th>mean</th>\n",
              "      <td>122.627551</td>\n",
              "      <td>156.056122</td>\n",
              "      <td>33.086224</td>\n",
              "      <td>0.523046</td>\n",
              "      <td>30.864796</td>\n",
              "      <td>0.331633</td>\n",
              "    </tr>\n",
              "    <tr>\n",
              "      <th>std</th>\n",
              "      <td>30.860781</td>\n",
              "      <td>118.841690</td>\n",
              "      <td>7.027659</td>\n",
              "      <td>0.345488</td>\n",
              "      <td>10.200777</td>\n",
              "      <td>0.471401</td>\n",
              "    </tr>\n",
              "    <tr>\n",
              "      <th>min</th>\n",
              "      <td>56.000000</td>\n",
              "      <td>14.000000</td>\n",
              "      <td>18.200000</td>\n",
              "      <td>0.085000</td>\n",
              "      <td>21.000000</td>\n",
              "      <td>0.000000</td>\n",
              "    </tr>\n",
              "    <tr>\n",
              "      <th>25%</th>\n",
              "      <td>99.000000</td>\n",
              "      <td>76.750000</td>\n",
              "      <td>28.400000</td>\n",
              "      <td>0.269750</td>\n",
              "      <td>23.000000</td>\n",
              "      <td>0.000000</td>\n",
              "    </tr>\n",
              "    <tr>\n",
              "      <th>50%</th>\n",
              "      <td>119.000000</td>\n",
              "      <td>125.500000</td>\n",
              "      <td>33.200000</td>\n",
              "      <td>0.449500</td>\n",
              "      <td>27.000000</td>\n",
              "      <td>0.000000</td>\n",
              "    </tr>\n",
              "    <tr>\n",
              "      <th>75%</th>\n",
              "      <td>143.000000</td>\n",
              "      <td>190.000000</td>\n",
              "      <td>37.100000</td>\n",
              "      <td>0.687000</td>\n",
              "      <td>36.000000</td>\n",
              "      <td>1.000000</td>\n",
              "    </tr>\n",
              "    <tr>\n",
              "      <th>max</th>\n",
              "      <td>198.000000</td>\n",
              "      <td>846.000000</td>\n",
              "      <td>67.100000</td>\n",
              "      <td>2.420000</td>\n",
              "      <td>81.000000</td>\n",
              "      <td>1.000000</td>\n",
              "    </tr>\n",
              "  </tbody>\n",
              "</table>\n",
              "</div>"
            ],
            "text/plain": [
              "          Glucose     Insulin  ...         Age     Outcome\n",
              "count  392.000000  392.000000  ...  392.000000  392.000000\n",
              "mean   122.627551  156.056122  ...   30.864796    0.331633\n",
              "std     30.860781  118.841690  ...   10.200777    0.471401\n",
              "min     56.000000   14.000000  ...   21.000000    0.000000\n",
              "25%     99.000000   76.750000  ...   23.000000    0.000000\n",
              "50%    119.000000  125.500000  ...   27.000000    0.000000\n",
              "75%    143.000000  190.000000  ...   36.000000    1.000000\n",
              "max    198.000000  846.000000  ...   81.000000    1.000000\n",
              "\n",
              "[8 rows x 6 columns]"
            ]
          },
          "metadata": {
            "tags": []
          },
          "execution_count": 223
        }
      ]
    },
    {
      "cell_type": "code",
      "metadata": {
        "colab": {
          "base_uri": "https://localhost:8080/"
        },
        "id": "okAQH0Q2oOUO",
        "outputId": "5fe99b7a-f92d-456a-ac9a-dbf962546b2d"
      },
      "source": [
        "# Drop the parameter Outcome cause its nos essential for our analysis\n",
        "x = data_frame.drop('Outcome', axis=1)\n",
        "print(x)\n",
        "\n",
        "y = data_frame['Outcome']\n",
        "y = y.values\n",
        "#print(y)"
      ],
      "execution_count": 224,
      "outputs": [
        {
          "output_type": "stream",
          "text": [
            "     Glucose  Insulin   BMI  DiabetesPedigreeFunction  Age\n",
            "3         89       94  28.1                     0.167   21\n",
            "4        137      168  43.1                     2.288   33\n",
            "6         78       88  31.0                     0.248   26\n",
            "8        197      543  30.5                     0.158   53\n",
            "13       189      846  30.1                     0.398   59\n",
            "..       ...      ...   ...                       ...  ...\n",
            "753      181      510  43.3                     0.222   26\n",
            "755      128      110  36.5                     1.057   37\n",
            "760       88       16  28.4                     0.766   22\n",
            "763      101      180  32.9                     0.171   63\n",
            "765      121      112  26.2                     0.245   30\n",
            "\n",
            "[392 rows x 5 columns]\n"
          ],
          "name": "stdout"
        }
      ]
    },
    {
      "cell_type": "code",
      "metadata": {
        "id": "nTX2YzRlyKgJ"
      },
      "source": [
        "# Parameters for feature selection\n",
        "feature_name = list(x.columns)\n",
        "# no of maximum features we need to select\n",
        "num_feats=5"
      ],
      "execution_count": 225,
      "outputs": []
    },
    {
      "cell_type": "code",
      "metadata": {
        "id": "gH2N17OjyLJm"
      },
      "source": [
        "# Pearson correlation\n",
        "'''\n",
        "This is a filter-based method.  We check the absolute value of the Pearson's correlation between the target and numerical features \n",
        "in our dataset. We keep the top n features based on this criterion.\n",
        "'''\n",
        "def cor_selector(x, y,num_feats):\n",
        "    cor_list = []\n",
        "    feature_name = x.columns.tolist()\n",
        "    # calculate the correlation with y for each feature\n",
        "    for i in x.columns.tolist():\n",
        "        cor = np.corrcoef(x[i], y)[0, 1]\n",
        "        cor_list.append(cor)\n",
        "    # replace NaN with 0\n",
        "    cor_list = [0 if np.isnan(i) else i for i in cor_list]\n",
        "    # feature name\n",
        "    cor_feature = x.iloc[:,np.argsort(np.abs(cor_list))[-num_feats:]].columns.tolist()\n",
        "    # feature selection? 0 for not select, 1 for select\n",
        "    cor_support = [True if i in cor_feature else False for i in feature_name]\n",
        "    return cor_support, cor_feature\n",
        "cor_support, cor_feature = cor_selector(x, y,num_feats)"
      ],
      "execution_count": 226,
      "outputs": []
    },
    {
      "cell_type": "code",
      "metadata": {
        "id": "czsTJXCGyRWb"
      },
      "source": [
        "# Chi-Square Features\n",
        "'''\n",
        "This is another filter-based method.  In this method, we calculate the chi-square metric between the target and the\n",
        "numerical variable and only select the variable with the maximum chi-squared values.\n",
        "'''\n",
        "from sklearn.feature_selection import SelectKBest\n",
        "from sklearn.feature_selection import chi2\n",
        "from sklearn.preprocessing import MinMaxScaler\n",
        "\n",
        "X_norm = MinMaxScaler().fit_transform(x)\n",
        "chi_selector = SelectKBest(chi2, k=num_feats)\n",
        "chi_selector.fit(X_norm, y)\n",
        "chi_support = chi_selector.get_support()\n",
        "chi_feature = x.loc[:,chi_support].columns.tolist()"
      ],
      "execution_count": 227,
      "outputs": []
    },
    {
      "cell_type": "code",
      "metadata": {
        "id": "MHBCQZ_6yVf0"
      },
      "source": [
        "# Recursive Feature Elimination\n",
        "'''\n",
        "The goal of recursive feature elimination (RFE) is to select features by recursively considering smaller and smaller \n",
        "sets of features. First, the estimator is trained on the initial set of features and the importance of each feature is obtained either \n",
        "through a coef_ attribute or through a featureimportances attribute. \n",
        "Then, the least important features are pruned from current set of features. That procedure is \n",
        "recursively repeated on the pruned set until the desired number of features to select is eventually reached.\n",
        "'''\n",
        "from sklearn.feature_selection import RFE\n",
        "\n",
        "rfe_selector = RFE(estimator=LogisticRegression(), n_features_to_select=num_feats, step=10, verbose=5)\n",
        "rfe_selector.fit(X_norm, y)\n",
        "rfe_support = rfe_selector.get_support()\n",
        "rfe_feature = x.loc[:,rfe_support].columns.tolist()"
      ],
      "execution_count": 228,
      "outputs": []
    },
    {
      "cell_type": "code",
      "metadata": {
        "id": "RNDhmP4sygB4"
      },
      "source": [
        "# Lasso: SelectFromMode\n",
        "'''\n",
        "This is an Embedded method. As said before, Embedded methods use algorithms that have built-in feature selection methods.  \n",
        "For example, Lasso, and RF have their own feature selection methods.\n",
        "Lasso Regularizer forces a lot of feature weights to be zero.  Here we use Lasso to select variables.\n",
        "'''\n",
        "from sklearn.feature_selection import SelectFromModel\n",
        "\n",
        "embeded_lr_selector = SelectFromModel(LogisticRegression(penalty=\"l2\"), max_features=num_feats)\n",
        "embeded_lr_selector.fit(X_norm, y)\n",
        "embeded_lr_support = embeded_lr_selector.get_support()\n",
        "embeded_lr_feature = x.loc[:,embeded_lr_support].columns.tolist()"
      ],
      "execution_count": 229,
      "outputs": []
    },
    {
      "cell_type": "code",
      "metadata": {
        "id": "vmD5_ZPlyuJl"
      },
      "source": [
        "# Tree-based: SelectFromModel\n",
        "'''\n",
        "This is an Embedded method. As said before, Embedded methods use algorithms that have built-in feature selection methods. \n",
        "We can also use RandomForest to select features based on feature importance. \n",
        "We calculate feature importance using node impurities in each decision tree. \n",
        "In Random forest, the final feature importance is the average of all decision tree feature importance.\n",
        "'''\n",
        "from sklearn.ensemble import RandomForestClassifier\n",
        "\n",
        "embeded_rf_selector = SelectFromModel(RandomForestClassifier(n_estimators=100), max_features=num_feats)\n",
        "embeded_rf_selector.fit(x, y)\n",
        "embeded_rf_support = embeded_rf_selector.get_support()\n",
        "embeded_rf_feature = x.loc[:,embeded_rf_support].columns.tolist()"
      ],
      "execution_count": 230,
      "outputs": []
    },
    {
      "cell_type": "code",
      "metadata": {
        "colab": {
          "base_uri": "https://localhost:8080/",
          "height": 204
        },
        "id": "1Y6WSWOntS6j",
        "outputId": "30d3285d-3bb3-4de0-a6c7-03122cf973a4"
      },
      "source": [
        "\n",
        "# put all selection together\n",
        "feature_selection_df = pd.DataFrame({'Feature':feature_name, 'Pearson':cor_support, 'Chi-2':chi_support, 'RFE':rfe_support, 'Logistics':embeded_lr_support,\n",
        "                                    'Random Forest':embeded_rf_support})\n",
        "# count the selected times for each feature\n",
        "feature_selection_df['Total'] = np.sum(feature_selection_df, axis=1)\n",
        "# display the top 100\n",
        "feature_selection_df = feature_selection_df.sort_values(['Total','Feature'] , ascending=False)\n",
        "feature_selection_df.index = range(1, len(feature_selection_df)+1)\n",
        "feature_selection_df.head(num_feats)"
      ],
      "execution_count": 231,
      "outputs": [
        {
          "output_type": "execute_result",
          "data": {
            "text/html": [
              "<div>\n",
              "<style scoped>\n",
              "    .dataframe tbody tr th:only-of-type {\n",
              "        vertical-align: middle;\n",
              "    }\n",
              "\n",
              "    .dataframe tbody tr th {\n",
              "        vertical-align: top;\n",
              "    }\n",
              "\n",
              "    .dataframe thead th {\n",
              "        text-align: right;\n",
              "    }\n",
              "</style>\n",
              "<table border=\"1\" class=\"dataframe\">\n",
              "  <thead>\n",
              "    <tr style=\"text-align: right;\">\n",
              "      <th></th>\n",
              "      <th>Feature</th>\n",
              "      <th>Pearson</th>\n",
              "      <th>Chi-2</th>\n",
              "      <th>RFE</th>\n",
              "      <th>Logistics</th>\n",
              "      <th>Random Forest</th>\n",
              "      <th>Total</th>\n",
              "    </tr>\n",
              "  </thead>\n",
              "  <tbody>\n",
              "    <tr>\n",
              "      <th>1</th>\n",
              "      <td>Glucose</td>\n",
              "      <td>True</td>\n",
              "      <td>True</td>\n",
              "      <td>True</td>\n",
              "      <td>True</td>\n",
              "      <td>True</td>\n",
              "      <td>5</td>\n",
              "    </tr>\n",
              "    <tr>\n",
              "      <th>2</th>\n",
              "      <td>Insulin</td>\n",
              "      <td>True</td>\n",
              "      <td>True</td>\n",
              "      <td>True</td>\n",
              "      <td>False</td>\n",
              "      <td>True</td>\n",
              "      <td>4</td>\n",
              "    </tr>\n",
              "    <tr>\n",
              "      <th>3</th>\n",
              "      <td>BMI</td>\n",
              "      <td>True</td>\n",
              "      <td>True</td>\n",
              "      <td>True</td>\n",
              "      <td>True</td>\n",
              "      <td>False</td>\n",
              "      <td>4</td>\n",
              "    </tr>\n",
              "    <tr>\n",
              "      <th>4</th>\n",
              "      <td>Age</td>\n",
              "      <td>True</td>\n",
              "      <td>True</td>\n",
              "      <td>True</td>\n",
              "      <td>True</td>\n",
              "      <td>False</td>\n",
              "      <td>4</td>\n",
              "    </tr>\n",
              "    <tr>\n",
              "      <th>5</th>\n",
              "      <td>DiabetesPedigreeFunction</td>\n",
              "      <td>True</td>\n",
              "      <td>True</td>\n",
              "      <td>True</td>\n",
              "      <td>False</td>\n",
              "      <td>False</td>\n",
              "      <td>3</td>\n",
              "    </tr>\n",
              "  </tbody>\n",
              "</table>\n",
              "</div>"
            ],
            "text/plain": [
              "                    Feature  Pearson  Chi-2  ...  Logistics  Random Forest  Total\n",
              "1                   Glucose     True   True  ...       True           True      5\n",
              "2                   Insulin     True   True  ...      False           True      4\n",
              "3                       BMI     True   True  ...       True          False      4\n",
              "4                       Age     True   True  ...       True          False      4\n",
              "5  DiabetesPedigreeFunction     True   True  ...      False          False      3\n",
              "\n",
              "[5 rows x 7 columns]"
            ]
          },
          "metadata": {
            "tags": []
          },
          "execution_count": 231
        }
      ]
    },
    {
      "cell_type": "code",
      "metadata": {
        "id": "axkxReQsnb1B"
      },
      "source": [
        "# Model kfold\n",
        "kfold = model_selection.KFold(n_splits=10, shuffle=True)\n",
        "kfold_model = LogisticRegression()\n",
        "kfold_results = model_selection.cross_val_score(kfold_model, x, y, cv=kfold)"
      ],
      "execution_count": 232,
      "outputs": []
    },
    {
      "cell_type": "code",
      "metadata": {
        "colab": {
          "base_uri": "https://localhost:8080/"
        },
        "id": "BKMa5xa6pgxl",
        "outputId": "d892a83c-8a4d-4ad3-a62e-0af62ae1aa3b"
      },
      "source": [
        "print('Accuracy: %1f%%' % (kfold_results.mean()*100))"
      ],
      "execution_count": 233,
      "outputs": [
        {
          "output_type": "stream",
          "text": [
            "Accuracy: 78.564103%\n"
          ],
          "name": "stdout"
        }
      ]
    },
    {
      "cell_type": "code",
      "metadata": {
        "colab": {
          "base_uri": "https://localhost:8080/",
          "height": 302
        },
        "id": "Nu8epPaF7W8i",
        "outputId": "d8754b48-552f-4fd0-e8a3-fe3494e3c0f6"
      },
      "source": [
        "# It helps to know how many correct and incorrect answers our algorithm got\n",
        "from sklearn import metrics\n",
        "from sklearn.model_selection import train_test_split\n",
        "kfold_model.fit(X_train,Y_train)\n",
        "X_train,X_test,Y_train,Y_test = train_test_split(x, y, test_size=0.3, random_state=42)\n",
        "prediction = kfold_model.predict(X_test)\n",
        "'''\n",
        "# Confusion Matrix\n",
        "from sklearn.metrics import confusion_matrix\n",
        "confusion_matrix(Y_test, prediction)\n",
        "# Accuracy\n",
        "from sklearn.metrics import accuracy_score\n",
        "accuracy_score(Y_test, prediction)\n",
        "# Recall\n",
        "from sklearn.metrics import recall_score\n",
        "recall_score(Y_test, prediction, average=None)\n",
        "# Precision\n",
        "from sklearn.metrics import precision_score\n",
        "precision_score(Y_test, prediction, average=None)\n",
        "'''\n",
        "confusion_matrix = metrics.confusion_matrix(Y_test, prediction)\n",
        "confusion_matrix\n",
        "\n",
        "plt.figure()\n",
        "plt.matshow(confusion_matrix, cmap='PuBu')\n",
        "\n",
        "for x in range(0, 2):\n",
        "    for y in range(0, 2):\n",
        "        plt.text(x, y, confusion_matrix[x, y])\n",
        "\n",
        "plt.ylabel('expected label')\n",
        "plt.xlabel('predicted label')\n",
        "plt.show()\n",
        "\n",
        "#print(confusion_matrix)"
      ],
      "execution_count": 234,
      "outputs": [
        {
          "output_type": "display_data",
          "data": {
            "text/plain": [
              "<Figure size 432x288 with 0 Axes>"
            ]
          },
          "metadata": {
            "tags": []
          }
        },
        {
          "output_type": "display_data",
          "data": {
            "image/png": "[encoded data removed]",
            "text/plain": [
              "<Figure size 288x288 with 1 Axes>"
            ]
          },
          "metadata": {
            "tags": [],
            "needs_background": "light"
          }
        }
      ]
    },
    {
      "cell_type": "code",
      "metadata": {
        "colab": {
          "base_uri": "https://localhost:8080/"
        },
        "id": "vrEG7EpchVp2",
        "outputId": "170dc257-5109-4ec9-d8f7-8b6295fba508"
      },
      "source": [
        "# Posicion en la matriz\n",
        "true_positive = confusion_matrix[1, 1]\n",
        "print(true_positive)\n",
        "true_negative = confusion_matrix[0, 0]\n",
        "print(true_negative)\n",
        "false_positive = confusion_matrix[0, 1]\n",
        "print(false_positive)\n",
        "false_negative = confusion_matrix[1, 0]\n",
        "print(false_negative)"
      ],
      "execution_count": 235,
      "outputs": [
        {
          "output_type": "stream",
          "text": [
            "19\n",
            "68\n",
            "12\n",
            "19\n"
          ],
          "name": "stdout"
        }
      ]
    },
    {
      "cell_type": "code",
      "metadata": {
        "colab": {
          "base_uri": "https://localhost:8080/"
        },
        "id": "ZCroshbYkmcB",
        "outputId": "488df773-3bbd-4e4b-a74f-e04928f35468"
      },
      "source": [
        "print(\"Sensitivity: %.2f\" % (true_positive / float(true_positive + false_negative)))\n",
        "print(\"Specificy  : %.2f\" % (true_negative / float(true_negative + false_positive)))"
      ],
      "execution_count": 236,
      "outputs": [
        {
          "output_type": "stream",
          "text": [
            "Sensitivity: 0.50\n",
            "Specificy  : 0.85\n"
          ],
          "name": "stdout"
        }
      ]
    },
    {
      "cell_type": "code",
      "metadata": {
        "colab": {
          "base_uri": "https://localhost:8080/"
        },
        "id": "ZSetJwOml2h4",
        "outputId": "6cf26b07-9d18-47ba-becd-8583756e8dd9"
      },
      "source": [
        "# Method: sklearn for F1 score\n",
        "from sklearn.metrics import f1_score\n",
        "#If None, the scores for each class are returned. Otherwise, this determines the type of averaging performed on the data:\n",
        "f1_score(Y_test, prediction, average=None)"
      ],
      "execution_count": 237,
      "outputs": [
        {
          "output_type": "execute_result",
          "data": {
            "text/plain": [
              "array([0.81437126, 0.55072464])"
            ]
          },
          "metadata": {
            "tags": []
          },
          "execution_count": 237
        }
      ]
    }
  ]
}